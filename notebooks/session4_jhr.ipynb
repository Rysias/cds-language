{
 "cells": [
  {
   "cell_type": "markdown",
   "metadata": {},
   "source": [
    "## Some more on ```spaCy``` and ```pandas```"
   ]
  },
  {
   "cell_type": "markdown",
   "metadata": {},
   "source": [
    "First we want to import some of the packages we need."
   ]
  },
  {
   "cell_type": "code",
   "execution_count": 23,
   "metadata": {
    "execution": {
     "iopub.execute_input": "2022-02-28T13:22:49.699277Z",
     "iopub.status.busy": "2022-02-28T13:22:49.698345Z",
     "iopub.status.idle": "2022-02-28T13:22:50.281763Z",
     "shell.execute_reply": "2022-02-28T13:22:50.279914Z",
     "shell.execute_reply.started": "2022-02-28T13:22:49.699152Z"
    },
    "tags": []
   },
   "outputs": [],
   "source": [
    "import os\n",
    "import spacy\n",
    "from pathlib import Path\n",
    "# Remember we need to initialise spaCy\n",
    "nlp = spacy.load(\"en_core_web_sm\")"
   ]
  },
  {
   "cell_type": "markdown",
   "metadata": {},
   "source": [
    "We can inspect this object and see that it's what we've been called a ```spaCy``` object. "
   ]
  },
  {
   "cell_type": "code",
   "execution_count": 5,
   "metadata": {
    "execution": {
     "iopub.execute_input": "2022-02-28T13:16:43.780275Z",
     "iopub.status.busy": "2022-02-28T13:16:43.779699Z",
     "iopub.status.idle": "2022-02-28T13:16:43.789627Z",
     "shell.execute_reply": "2022-02-28T13:16:43.788499Z",
     "shell.execute_reply.started": "2022-02-28T13:16:43.780218Z"
    },
    "tags": []
   },
   "outputs": [
    {
     "data": {
      "text/plain": [
       "spacy.lang.en.English"
      ]
     },
     "execution_count": 5,
     "metadata": {},
     "output_type": "execute_result"
    }
   ],
   "source": [
    "type(nlp)"
   ]
  },
  {
   "cell_type": "markdown",
   "metadata": {},
   "source": [
    "We use this ```spaCy``` object to create annotated outputs, what we call a ```Doc``` object."
   ]
  },
  {
   "cell_type": "code",
   "execution_count": 12,
   "metadata": {
    "execution": {
     "iopub.execute_input": "2022-02-28T13:19:10.129352Z",
     "iopub.status.busy": "2022-02-28T13:19:10.128687Z",
     "iopub.status.idle": "2022-02-28T13:19:10.160218Z",
     "shell.execute_reply": "2022-02-28T13:19:10.159469Z",
     "shell.execute_reply.started": "2022-02-28T13:19:10.129288Z"
    },
    "tags": []
   },
   "outputs": [
    {
     "data": {
      "text/plain": [
       "spacy.tokens.doc.Doc"
      ]
     },
     "execution_count": 12,
     "metadata": {},
     "output_type": "execute_result"
    }
   ],
   "source": [
    "text = \"I'm doing this SpaCy thing called coding\"\n",
    "doc = nlp(text)\n",
    "type(doc)"
   ]
  },
  {
   "cell_type": "markdown",
   "metadata": {},
   "source": [
    "```Doc``` objects are sequences of tokens, meaning we can iterate over the tokens and output specific annotations that we want such as POS tag or lemma."
   ]
  },
  {
   "cell_type": "code",
   "execution_count": 21,
   "metadata": {
    "execution": {
     "iopub.execute_input": "2022-02-28T13:21:33.588853Z",
     "iopub.status.busy": "2022-02-28T13:21:33.587984Z",
     "iopub.status.idle": "2022-02-28T13:21:33.605132Z",
     "shell.execute_reply": "2022-02-28T13:21:33.604278Z",
     "shell.execute_reply.started": "2022-02-28T13:21:33.588736Z"
    },
    "tags": []
   },
   "outputs": [
    {
     "data": {
      "text/plain": [
       "[('I', 'PRON'),\n",
       " (\"'m\", 'AUX'),\n",
       " ('doing', 'VERB'),\n",
       " ('this', 'DET'),\n",
       " ('SpaCy', 'PROPN'),\n",
       " ('thing', 'NOUN'),\n",
       " ('called', 'VERB'),\n",
       " ('coding', 'VERB')]"
      ]
     },
     "execution_count": 21,
     "metadata": {},
     "output_type": "execute_result"
    }
   ],
   "source": [
    "[(tok.text, tok.pos_) for tok in doc]"
   ]
  },
  {
   "cell_type": "markdown",
   "metadata": {},
   "source": [
    "__Reading data with ```pandas```__"
   ]
  },
  {
   "cell_type": "markdown",
   "metadata": {},
   "source": [
    "```pandas``` is the main library in Python for working with DataFrames. These are tabular objects of mixed data types, comprising rows and columns.\n",
    "\n",
    "In ```pandas``` vocabulary, a column is called a ```Series```, which is like a sophisticated list. I'll be using the names ```Series``` and column pretty interchangably."
   ]
  },
  {
   "cell_type": "code",
   "execution_count": 11,
   "metadata": {
    "execution": {
     "iopub.execute_input": "2022-02-28T13:18:11.423393Z",
     "iopub.status.busy": "2022-02-28T13:18:11.422869Z",
     "iopub.status.idle": "2022-02-28T13:18:11.634196Z",
     "shell.execute_reply": "2022-02-28T13:18:11.633255Z",
     "shell.execute_reply.started": "2022-02-28T13:18:11.423342Z"
    },
    "tags": []
   },
   "outputs": [],
   "source": [
    "import pandas as pd"
   ]
  },
  {
   "cell_type": "code",
   "execution_count": 33,
   "metadata": {
    "execution": {
     "iopub.execute_input": "2022-02-28T13:25:49.064185Z",
     "iopub.status.busy": "2022-02-28T13:25:49.063266Z",
     "iopub.status.idle": "2022-02-28T13:25:49.357778Z",
     "shell.execute_reply": "2022-02-28T13:25:49.355568Z",
     "shell.execute_reply.started": "2022-02-28T13:25:49.064059Z"
    },
    "tags": []
   },
   "outputs": [],
   "source": [
    "DATA_DIR = Path(\"../../../CDS-LANG/tabular_examples\")\n",
    "assert DATA_DIR.exists()\n",
    "filepath = DATA_DIR / \"fake_or_real_news.csv\"\n",
    "data = pd.read_csv(filepath, index_col=0)"
   ]
  },
  {
   "cell_type": "markdown",
   "metadata": {},
   "source": [
    "We can use ```.sample()``` to take random samples of the dataframe."
   ]
  },
  {
   "cell_type": "code",
   "execution_count": 38,
   "metadata": {
    "execution": {
     "iopub.execute_input": "2022-02-28T13:28:53.986893Z",
     "iopub.status.busy": "2022-02-28T13:28:53.986018Z",
     "iopub.status.idle": "2022-02-28T13:28:54.010031Z",
     "shell.execute_reply": "2022-02-28T13:28:54.009136Z",
     "shell.execute_reply.started": "2022-02-28T13:28:53.986772Z"
    },
    "tags": []
   },
   "outputs": [
    {
     "data": {
      "text/html": [
       "<div>\n",
       "<style scoped>\n",
       "    .dataframe tbody tr th:only-of-type {\n",
       "        vertical-align: middle;\n",
       "    }\n",
       "\n",
       "    .dataframe tbody tr th {\n",
       "        vertical-align: top;\n",
       "    }\n",
       "\n",
       "    .dataframe thead th {\n",
       "        text-align: right;\n",
       "    }\n",
       "</style>\n",
       "<table border=\"1\" class=\"dataframe\">\n",
       "  <thead>\n",
       "    <tr style=\"text-align: right;\">\n",
       "      <th></th>\n",
       "      <th>title</th>\n",
       "      <th>text</th>\n",
       "      <th>label</th>\n",
       "    </tr>\n",
       "  </thead>\n",
       "  <tbody>\n",
       "    <tr>\n",
       "      <th>3466</th>\n",
       "      <td>Supreme Court to consider redefining 'one-pers...</td>\n",
       "      <td>WASHINGTON — The Supreme Court agreed Tuesday ...</td>\n",
       "      <td>REAL</td>\n",
       "    </tr>\n",
       "    <tr>\n",
       "      <th>7266</th>\n",
       "      <td>THIS Is What It Means If You Have Two Dimples ...</td>\n",
       "      <td>posted by Eddie Whether you have back dimples,...</td>\n",
       "      <td>FAKE</td>\n",
       "    </tr>\n",
       "    <tr>\n",
       "      <th>6532</th>\n",
       "      <td>Nevada: Rep. Election Workers Intimidated</td>\n",
       "      <td>Nevada: Rep. Election Workers Intimidated Nove...</td>\n",
       "      <td>FAKE</td>\n",
       "    </tr>\n",
       "  </tbody>\n",
       "</table>\n",
       "</div>"
      ],
      "text/plain": [
       "                                                  title  \\\n",
       "3466  Supreme Court to consider redefining 'one-pers...   \n",
       "7266  THIS Is What It Means If You Have Two Dimples ...   \n",
       "6532          Nevada: Rep. Election Workers Intimidated   \n",
       "\n",
       "                                                   text label  \n",
       "3466  WASHINGTON — The Supreme Court agreed Tuesday ...  REAL  \n",
       "7266  posted by Eddie Whether you have back dimples,...  FAKE  \n",
       "6532  Nevada: Rep. Election Workers Intimidated Nove...  FAKE  "
      ]
     },
     "execution_count": 38,
     "metadata": {},
     "output_type": "execute_result"
    }
   ],
   "source": [
    "data.sample(3)"
   ]
  },
  {
   "cell_type": "markdown",
   "metadata": {},
   "source": [
    "To delete unwanted columns, we can do the following:"
   ]
  },
  {
   "cell_type": "code",
   "execution_count": null,
   "metadata": {},
   "outputs": [],
   "source": [
    "# df.drop([\"colname\"], axis=1)"
   ]
  },
  {
   "cell_type": "markdown",
   "metadata": {},
   "source": [
    "We can count the distribution of possible values in our data using ```.value_counts()``` - e.g. how many REAL and FAKE news entries do we have in our DataFrame?"
   ]
  },
  {
   "cell_type": "code",
   "execution_count": 37,
   "metadata": {
    "execution": {
     "iopub.execute_input": "2022-02-28T13:28:28.213473Z",
     "iopub.status.busy": "2022-02-28T13:28:28.212551Z",
     "iopub.status.idle": "2022-02-28T13:28:28.232120Z",
     "shell.execute_reply": "2022-02-28T13:28:28.230806Z",
     "shell.execute_reply.started": "2022-02-28T13:28:28.213349Z"
    },
    "tags": []
   },
   "outputs": [
    {
     "data": {
      "text/plain": [
       "REAL    3171\n",
       "FAKE    3164\n",
       "Name: label, dtype: int64"
      ]
     },
     "execution_count": 37,
     "metadata": {},
     "output_type": "execute_result"
    }
   ],
   "source": [
    "data[\"label\"].value_counts()"
   ]
  },
  {
   "cell_type": "markdown",
   "metadata": {},
   "source": [
    "__Filter on columns__"
   ]
  },
  {
   "cell_type": "markdown",
   "metadata": {},
   "source": [
    "To filter on columns, we define a condition on which we want to filter and use that to filer our DataFrame. We use the square-bracket syntax, just as if we were slicing a list or string."
   ]
  },
  {
   "cell_type": "code",
   "execution_count": 41,
   "metadata": {
    "execution": {
     "iopub.execute_input": "2022-02-28T13:32:01.359209Z",
     "iopub.status.busy": "2022-02-28T13:32:01.358250Z",
     "iopub.status.idle": "2022-02-28T13:32:01.373535Z",
     "shell.execute_reply": "2022-02-28T13:32:01.372193Z",
     "shell.execute_reply.started": "2022-02-28T13:32:01.359085Z"
    },
    "tags": []
   },
   "outputs": [],
   "source": [
    "mask = data[\"label\"] == \"FAKE\""
   ]
  },
  {
   "cell_type": "markdown",
   "metadata": {},
   "source": [
    "Here we create two new dataframes, one with only fake news text, and one with only real news text."
   ]
  },
  {
   "cell_type": "code",
   "execution_count": 42,
   "metadata": {
    "execution": {
     "iopub.execute_input": "2022-02-28T13:32:53.018418Z",
     "iopub.status.busy": "2022-02-28T13:32:53.017499Z",
     "iopub.status.idle": "2022-02-28T13:32:53.033936Z",
     "shell.execute_reply": "2022-02-28T13:32:53.032626Z",
     "shell.execute_reply.started": "2022-02-28T13:32:53.018293Z"
    },
    "tags": []
   },
   "outputs": [],
   "source": [
    "fake_news_df = data[mask]\n",
    "true_df = data[~mask]"
   ]
  },
  {
   "cell_type": "markdown",
   "metadata": {},
   "source": [
    "__Counters__"
   ]
  },
  {
   "cell_type": "markdown",
   "metadata": {},
   "source": [
    "In the following cell, you can see how to use a 'counter' to count how many entries are in a list.\n",
    "\n",
    "The += operator adds 1 to the variable ```counter``` for every entry in the list."
   ]
  },
  {
   "cell_type": "code",
   "execution_count": null,
   "metadata": {},
   "outputs": [],
   "source": []
  },
  {
   "cell_type": "markdown",
   "metadata": {},
   "source": [
    "__Counting features in data__"
   ]
  },
  {
   "cell_type": "markdown",
   "metadata": {},
   "source": [
    "Using the same logic, we can count how often adjectives (```JJ```) appear in our data. \n",
    "\n",
    "This is useful from a lingustic perspective; we could now, for example, figure out how many of each part of speech can be found in our data."
   ]
  },
  {
   "cell_type": "code",
   "execution_count": null,
   "metadata": {},
   "outputs": [],
   "source": []
  },
  {
   "cell_type": "markdown",
   "metadata": {},
   "source": [
    "In this case, we're using ```nlp.pipe``` from ```spaCy``` to group the entries together into batches of 500 at a time.\n",
    "\n",
    "Why?\n",
    "\n",
    "Everytime we execute ```nlp(text)``` it incurs a small computational overhead which means that scaling becomes an issue. An overhead of 0.01s per document becomes an issue when dealing with 1,000,000 or 10,000,000 or 100,000,000...\n",
    "\n",
    "If we batch, we can therefore be a bit more efficient. It also allows us to keep our ```spaCy``` logic compact and together, which becomes useful for more complex tasks."
   ]
  },
  {
   "cell_type": "code",
   "execution_count": null,
   "metadata": {},
   "outputs": [],
   "source": []
  },
  {
   "cell_type": "markdown",
   "metadata": {},
   "source": [
    "## Sentiment with ```spaCy```"
   ]
  },
  {
   "cell_type": "markdown",
   "metadata": {},
   "source": [
    "To work with spaCyTextBlob, we need to make sure that we are working with ```spacy==2.3.5```. \n",
    "\n",
    "Follow the separate instructions posted to Slack to make this work."
   ]
  },
  {
   "cell_type": "code",
   "execution_count": null,
   "metadata": {},
   "outputs": [],
   "source": [
    "import os\n",
    "import pandas as pd\n",
    "import matplotlib.pyplot as plt\n",
    "import spacy\n",
    "from spacytextblob.spacytextblob import SpacyTextBlob\n",
    "# initialise spacy\n",
    "nlp = spacy.load(\"en_core_web_sm\")"
   ]
  },
  {
   "cell_type": "markdown",
   "metadata": {},
   "source": [
    "Here, we initialise spaCyTextBlob and add it as a new component to our ```spaCy``` nlp pipeline."
   ]
  },
  {
   "cell_type": "code",
   "execution_count": null,
   "metadata": {},
   "outputs": [],
   "source": []
  },
  {
   "cell_type": "markdown",
   "metadata": {},
   "source": [
    "Let's test spaCyTextBlob on a single text, specifically Virgian Woolf's _To The Lighthouse_, published in 1927."
   ]
  },
  {
   "cell_type": "code",
   "execution_count": null,
   "metadata": {},
   "outputs": [],
   "source": []
  },
  {
   "cell_type": "code",
   "execution_count": null,
   "metadata": {},
   "outputs": [],
   "source": []
  },
  {
   "cell_type": "code",
   "execution_count": null,
   "metadata": {},
   "outputs": [],
   "source": []
  },
  {
   "cell_type": "markdown",
   "metadata": {},
   "source": [
    "We use ```spaCy``` to create a ```Doc``` object for the entire text (how might you do this in batch?)"
   ]
  },
  {
   "cell_type": "code",
   "execution_count": null,
   "metadata": {},
   "outputs": [],
   "source": []
  },
  {
   "cell_type": "markdown",
   "metadata": {},
   "source": [
    "We can extract the polarity for each sentence in the novel and create list of scores per sentence."
   ]
  },
  {
   "cell_type": "code",
   "execution_count": null,
   "metadata": {},
   "outputs": [],
   "source": []
  },
  {
   "cell_type": "code",
   "execution_count": null,
   "metadata": {},
   "outputs": [],
   "source": []
  },
  {
   "cell_type": "markdown",
   "metadata": {},
   "source": [
    "We can create a quick and cheap plot using matplotlib - this is only fine in Jupyter Notebooks, don't do this in the wild!"
   ]
  },
  {
   "cell_type": "code",
   "execution_count": null,
   "metadata": {},
   "outputs": [],
   "source": []
  },
  {
   "cell_type": "markdown",
   "metadata": {},
   "source": [
    "We can the use some fancy methods from ```pandas``` to calculate a rolling mean over a certain window length.\n",
    "\n",
    "For example, we group together our polarity scores into a window of 100 sentences at a time and calculate an average on that window."
   ]
  },
  {
   "cell_type": "code",
   "execution_count": null,
   "metadata": {},
   "outputs": [],
   "source": []
  },
  {
   "cell_type": "markdown",
   "metadata": {},
   "source": [
    "This plot with a rolling average shows us a 'smoothed' output showing the rolling average over time, helping to cut through the noise."
   ]
  },
  {
   "cell_type": "code",
   "execution_count": null,
   "metadata": {},
   "outputs": [],
   "source": []
  },
  {
   "cell_type": "code",
   "execution_count": null,
   "metadata": {},
   "outputs": [],
   "source": []
  }
 ],
 "metadata": {
  "kernelspec": {
   "display_name": "Python 3 ",
   "language": "python",
   "name": "python3"
  },
  "language_info": {
   "codemirror_mode": {
    "name": "ipython",
    "version": 3
   },
   "file_extension": ".py",
   "mimetype": "text/x-python",
   "name": "python",
   "nbconvert_exporter": "python",
   "pygments_lexer": "ipython3",
   "version": "3.9.6"
  }
 },
 "nbformat": 4,
 "nbformat_minor": 4
}
