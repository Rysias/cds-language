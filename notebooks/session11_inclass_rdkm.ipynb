{
 "cells": [
  {
   "cell_type": "markdown",
   "id": "2307aaa3-c01d-4625-a72a-314fe5e4c8fe",
   "metadata": {},
   "source": [
    "# Sentiment classification with transformers "
   ]
  },
  {
   "cell_type": "code",
   "execution_count": null,
   "id": "69fad6b4-ce60-402e-b185-95eb7a59f349",
   "metadata": {
    "execution": {
     "iopub.execute_input": "2022-04-25T08:14:33.305989Z",
     "iopub.status.busy": "2022-04-25T08:14:33.305488Z",
     "iopub.status.idle": "2022-04-25T08:14:33.314452Z",
     "shell.execute_reply": "2022-04-25T08:14:33.313553Z",
     "shell.execute_reply.started": "2022-04-25T08:14:33.305931Z"
    },
    "tags": []
   },
   "outputs": [],
   "source": [
    "# data processing tools\n",
    "import os\n",
    "import csv\n",
    "import urllib.request\n",
    "import pandas as pd\n",
    "from tqdm import tqdm\n",
    "\n",
    "# maths tools\n",
    "import numpy as np\n",
    "from scipy.special import softmax\n",
    "\n",
    "# Huggingface tools\n",
    "from transformers import AutoTokenizer\n",
    "from transformers import TFAutoModelForSequenceClassification\n",
    "from transformers import pipeline, set_seed"
   ]
  },
  {
   "cell_type": "markdown",
   "id": "dac4f35d-e996-42fa-b5bb-5929bd4cb813",
   "metadata": {},
   "source": [
    "## Choose task specific model"
   ]
  },
  {
   "cell_type": "markdown",
   "id": "0b0c8c52-da25-4c60-9d2e-4a1d0b2ab8a9",
   "metadata": {},
   "source": [
    "The ```twitter-roberta-base``` model has been finetuned on a number of slightly different but related sentiment-style tasks. Specific models are finetuned to predict the following labels:\n",
    "\n",
    "- emotion\n",
    "- hate\n",
    "- irony\n",
    "- offensive\n",
    "- sentiment\n",
    "- emoji"
   ]
  },
  {
   "cell_type": "code",
   "execution_count": null,
   "id": "c3d493d9-ffa8-49f6-abdb-a1a0ad484462",
   "metadata": {
    "execution": {
     "iopub.execute_input": "2022-04-25T08:04:27.189238Z",
     "iopub.status.busy": "2022-04-25T08:04:27.188749Z",
     "iopub.status.idle": "2022-04-25T08:04:27.196282Z",
     "shell.execute_reply": "2022-04-25T08:04:27.194793Z",
     "shell.execute_reply.started": "2022-04-25T08:04:27.189181Z"
    },
    "tags": []
   },
   "outputs": [],
   "source": [
    "task='sentiment'\n",
    "MODEL = f\"cardiffnlp/twitter-roberta-base-{task}\""
   ]
  },
  {
   "cell_type": "markdown",
   "id": "ae280d5c-9275-429f-a595-f4b14ef1cf27",
   "metadata": {},
   "source": [
    "## Initialize tokenizer"
   ]
  },
  {
   "cell_type": "markdown",
   "id": "eaf1169a-df29-4802-a671-488d91973206",
   "metadata": {},
   "source": [
    "We initalize a pretrained tokenizer, which we need to use to tokenize our texts."
   ]
  },
  {
   "cell_type": "code",
   "execution_count": null,
   "id": "39fca5d2-acf5-4b94-835d-4f1f7be12565",
   "metadata": {
    "execution": {
     "iopub.execute_input": "2022-04-25T08:04:28.473219Z",
     "iopub.status.busy": "2022-04-25T08:04:28.472730Z",
     "iopub.status.idle": "2022-04-25T08:04:34.040393Z",
     "shell.execute_reply": "2022-04-25T08:04:34.038909Z",
     "shell.execute_reply.started": "2022-04-25T08:04:28.473163Z"
    },
    "tags": []
   },
   "outputs": [],
   "source": [
    "tokenizer = AutoTokenizer.from_pretrained(MODEL)"
   ]
  },
  {
   "cell_type": "markdown",
   "id": "d3fffb85-4ae6-4c82-bb17-37ec78b8959c",
   "metadata": {},
   "source": [
    "## Download label mappings"
   ]
  },
  {
   "cell_type": "markdown",
   "id": "61940242-9c57-45af-b400-e406d6ddd6e9",
   "metadata": {},
   "source": [
    "This specific model requires us to download the labels that we're going to use separately - this isn't the case with every model. We'll see more on that below, under ```Pipelines```."
   ]
  },
  {
   "cell_type": "code",
   "execution_count": null,
   "id": "e33c4615-aa40-46e8-a91c-99a9e11e321a",
   "metadata": {
    "execution": {
     "iopub.execute_input": "2022-04-25T08:06:18.502866Z",
     "iopub.status.busy": "2022-04-25T08:06:18.502360Z",
     "iopub.status.idle": "2022-04-25T08:06:18.679086Z",
     "shell.execute_reply": "2022-04-25T08:06:18.677756Z",
     "shell.execute_reply.started": "2022-04-25T08:06:18.502809Z"
    },
    "tags": []
   },
   "outputs": [],
   "source": [
    "# download label mapping\n",
    "labels=[]\n",
    "mapping_link = f\"https://raw.githubusercontent.com/cardiffnlp/tweeteval/main/datasets/{task}/mapping.txt\"\n",
    "with urllib.request.urlopen(mapping_link) as f:\n",
    "    html = f.read().decode('utf-8').split(\"\\n\")\n",
    "    csvreader = csv.reader(html, delimiter='\\t')\n",
    "labels = [row[1] for row in csvreader if len(row) > 1]"
   ]
  },
  {
   "cell_type": "markdown",
   "id": "fdf87458-3417-4b0f-b446-744a7d0bdeb6",
   "metadata": {},
   "source": [
    "## Initialize model"
   ]
  },
  {
   "cell_type": "code",
   "execution_count": null,
   "id": "e28e47c0-2182-401a-919d-394f52791253",
   "metadata": {
    "execution": {
     "iopub.execute_input": "2022-04-25T08:06:19.537045Z",
     "iopub.status.busy": "2022-04-25T08:06:19.536582Z",
     "iopub.status.idle": "2022-04-25T08:06:22.007656Z",
     "shell.execute_reply": "2022-04-25T08:06:22.006778Z",
     "shell.execute_reply.started": "2022-04-25T08:06:19.536991Z"
    },
    "tags": []
   },
   "outputs": [],
   "source": [
    "# # TF\n",
    "model = TFAutoModelForSequenceClassification.from_pretrained(MODEL)\n",
    "#model.save_pretrained(MODEL)"
   ]
  },
  {
   "cell_type": "markdown",
   "id": "7568c843-bc46-443c-ac56-f6a03bcc6af3",
   "metadata": {},
   "source": [
    "## Predict text"
   ]
  },
  {
   "cell_type": "code",
   "execution_count": null,
   "id": "26612842-62d6-4a60-86f8-b8051084a972",
   "metadata": {
    "execution": {
     "iopub.execute_input": "2022-04-25T08:06:23.201357Z",
     "iopub.status.busy": "2022-04-25T08:06:23.200874Z",
     "iopub.status.idle": "2022-04-25T08:06:23.388603Z",
     "shell.execute_reply": "2022-04-25T08:06:23.387140Z",
     "shell.execute_reply.started": "2022-04-25T08:06:23.201301Z"
    },
    "tags": []
   },
   "outputs": [],
   "source": [
    "# text input    \n",
    "text = \"Oh, well, that sounds just great\"\n",
    "\n",
    "# encode using tokenizer\n",
    "encoded_input = tokenizer(text, return_tensors='tf')\n",
    "\n",
    "# get output\n",
    "output = model(encoded_input)\n",
    "\n",
    "# get outputs as numpy array\n",
    "scores = output[0][0].numpy()\n",
    "\n",
    "# perform softmax classification\n",
    "scores = softmax(scores)"
   ]
  },
  {
   "cell_type": "markdown",
   "id": "afa41d27-db5e-4ce4-88e2-a94aceba5c1f",
   "metadata": {},
   "source": [
    "## Get ranked scores"
   ]
  },
  {
   "cell_type": "code",
   "execution_count": null,
   "id": "b9739852-f57a-4705-bc45-624dd3213a4d",
   "metadata": {
    "execution": {
     "iopub.execute_input": "2022-04-25T08:06:26.508653Z",
     "iopub.status.busy": "2022-04-25T08:06:26.508129Z",
     "iopub.status.idle": "2022-04-25T08:06:26.519622Z",
     "shell.execute_reply": "2022-04-25T08:06:26.517969Z",
     "shell.execute_reply.started": "2022-04-25T08:06:26.508595Z"
    },
    "tags": []
   },
   "outputs": [],
   "source": [
    "ranking = np.argsort(scores)\n",
    "ranking = ranking[::-1]\n",
    "for i in range(scores.shape[0]):\n",
    "    l = labels[ranking[i]]\n",
    "    s = scores[ranking[i]]\n",
    "    print(f\"{i+1}) {l} {np.round(float(s), 4)}\")"
   ]
  },
  {
   "cell_type": "markdown",
   "id": "f0ae625d-d8c8-4993-a88b-661b1fe512e8",
   "metadata": {},
   "source": [
    "## HuggingFace pipelines"
   ]
  },
  {
   "cell_type": "markdown",
   "id": "47c59e9d-d050-4031-bde7-c5cd6e412d91",
   "metadata": {},
   "source": [
    "Pipelines give us less control over the fine details but instead allow us to quickly generate results with default parameters."
   ]
  },
  {
   "cell_type": "code",
   "execution_count": null,
   "id": "b08d2551-dfd3-4660-968d-3337c67ba8e7",
   "metadata": {
    "tags": []
   },
   "outputs": [],
   "source": [
    "classifier = pipeline(\"text-classification\", \n",
    "                      model = \"cardiffnlp/twitter-roberta-base-emotion\", \n",
    "                      return_all_scores=True)\n",
    "scores = classifier(\"you suck! 🤬\")"
   ]
  },
  {
   "cell_type": "code",
   "execution_count": null,
   "id": "3201fe87-4161-4198-b12e-10e56167ba8e",
   "metadata": {},
   "outputs": [],
   "source": [
    "scores"
   ]
  },
  {
   "cell_type": "markdown",
   "id": "aa60ffbe-d90e-488e-a815-1203989bd99c",
   "metadata": {},
   "source": [
    "These results don't look great because of the problem with the labels that we saw earlier. We can obviously fix that afterwards by mapping the label names onto these results. \n",
    "\n",
    "Alternatively, we could use a different model that doesn't have these problems."
   ]
  },
  {
   "cell_type": "code",
   "execution_count": null,
   "id": "06c9731f-f6fd-47d5-b5a6-b3740fa62cdc",
   "metadata": {
    "execution": {
     "iopub.execute_input": "2022-04-25T08:13:16.998145Z",
     "iopub.status.busy": "2022-04-25T08:13:16.997615Z",
     "iopub.status.idle": "2022-04-25T08:13:24.453728Z",
     "shell.execute_reply": "2022-04-25T08:13:24.452585Z",
     "shell.execute_reply.started": "2022-04-25T08:13:16.998088Z"
    },
    "tags": []
   },
   "outputs": [],
   "source": [
    "classifier = pipeline(\"text-classification\",\n",
    "                      model='bhadresh-savani/distilbert-base-uncased-emotion', \n",
    "                      return_all_scores=True)\n",
    "prediction = classifier(\"you suck! 🤬\")"
   ]
  },
  {
   "cell_type": "code",
   "execution_count": null,
   "id": "cff9d491-3d8c-4b02-96e1-50305e03171e",
   "metadata": {
    "execution": {
     "iopub.execute_input": "2022-04-25T08:14:43.772687Z",
     "iopub.status.busy": "2022-04-25T08:14:43.772194Z"
    },
    "tags": []
   },
   "outputs": [],
   "source": [
    "all_scores = []\n",
    "for idx, row in tqdm(data.iterrows()):\n",
    "    prediction = classifier(row[\"text\"])\n",
    "    all_scores.append((row[\"text\"], prediction))"
   ]
  },
  {
   "cell_type": "code",
   "execution_count": null,
   "id": "59da9416-aac7-4ec3-be9f-f3bf624b5115",
   "metadata": {},
   "outputs": [],
   "source": [
    "classifier = pipeline(\"sentiment-analysis\")\n",
    "classifier(\"I loved Star Wars so much!\")"
   ]
  },
  {
   "cell_type": "code",
   "execution_count": null,
   "id": "7c6d01ab-4c2a-42e2-bb32-6c73183ac2db",
   "metadata": {},
   "outputs": [],
   "source": [
    "prediction"
   ]
  },
  {
   "cell_type": "markdown",
   "id": "083b6657-d6d6-4fc8-b0c0-38e843e8d3ff",
   "metadata": {},
   "source": [
    "## Score dataframe"
   ]
  },
  {
   "cell_type": "code",
   "execution_count": null,
   "id": "8d9bbc11-ea3e-4259-9770-971af7877981",
   "metadata": {
    "execution": {
     "iopub.execute_input": "2022-04-25T08:13:06.610313Z",
     "iopub.status.busy": "2022-04-25T08:13:06.609728Z",
     "iopub.status.idle": "2022-04-25T08:13:06.625270Z",
     "shell.execute_reply": "2022-04-25T08:13:06.624456Z",
     "shell.execute_reply.started": "2022-04-25T08:13:06.610217Z"
    },
    "tags": []
   },
   "outputs": [],
   "source": [
    "filename = os.path.join(\"..\",\"..\",\"CDS-LANG\", \"reviews\", \"yelp_labelled.txt\")\n",
    "\n",
    "data = pd.read_table(filename, header=None, names=[\"text\", \"label\"])"
   ]
  },
  {
   "cell_type": "markdown",
   "id": "2f648be6-4b4c-4b16-a72b-d1ea8b05478c",
   "metadata": {},
   "source": [
    "## Text generation"
   ]
  },
  {
   "cell_type": "code",
   "execution_count": null,
   "id": "1be72de7-112c-4cf6-aff6-edc62b654b9c",
   "metadata": {},
   "outputs": [],
   "source": [
    "generator = pipeline('text-generation', model='gpt2')\n",
    "set_seed(42)\n",
    "generator(\"Hello, I'm a language model,\", \n",
    "          max_length=50, \n",
    "          num_return_sequences=5)"
   ]
  }
 ],
 "metadata": {
  "kernelspec": {
   "display_name": "Python 3 ",
   "language": "python",
   "name": "python3"
  },
  "language_info": {
   "codemirror_mode": {
    "name": "ipython",
    "version": 3
   },
   "file_extension": ".py",
   "mimetype": "text/x-python",
   "name": "python",
   "nbconvert_exporter": "python",
   "pygments_lexer": "ipython3",
   "version": "3.9.10"
  }
 },
 "nbformat": 4,
 "nbformat_minor": 5
}
